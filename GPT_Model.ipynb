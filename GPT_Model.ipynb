{
  "nbformat": 4,
  "nbformat_minor": 0,
  "metadata": {
    "colab": {
      "provenance": [],
      "gpuType": "T4",
      "authorship_tag": "ABX9TyOmJZB54yrN1NRz9N3xdQuN",
      "include_colab_link": true
    },
    "kernelspec": {
      "name": "python3",
      "display_name": "Python 3"
    },
    "language_info": {
      "name": "python"
    },
    "accelerator": "GPU"
  },
  "cells": [
    {
      "cell_type": "markdown",
      "metadata": {
        "id": "view-in-github",
        "colab_type": "text"
      },
      "source": [
        "<a href=\"https://colab.research.google.com/github/nimishsoni/GPT-Model/blob/main/GPT_Model.ipynb\" target=\"_parent\"><img src=\"https://colab.research.google.com/assets/colab-badge.svg\" alt=\"Open In Colab\"/></a>"
      ]
    },
    {
      "cell_type": "markdown",
      "source": [
        "## GPT Model trained on tiny-Shakespeare data\n",
        "Key Components of the model are:\n",
        "1. word embedding\n",
        "2. Positional encoding\n",
        "3. multi-headed self-attention\n",
        "4. Transformer encoder block\n",
        "5. Decoder block"
      ],
      "metadata": {
        "id": "dtPsWQFcbIZY"
      }
    },
    {
      "cell_type": "code",
      "execution_count": 1,
      "metadata": {
        "colab": {
          "base_uri": "https://localhost:8080/"
        },
        "id": "fl4cSu9Ddeqp",
        "outputId": "839da9b9-771a-4125-d635-a60bf3c306ef"
      },
      "outputs": [
        {
          "output_type": "stream",
          "name": "stdout",
          "text": [
            "--2023-12-13 12:17:19--  https://raw.githubusercontent.com/karpathy/char-rnn/master/data/tinyshakespeare/input.txt\n",
            "Resolving raw.githubusercontent.com (raw.githubusercontent.com)... 185.199.111.133, 185.199.110.133, 185.199.108.133, ...\n",
            "Connecting to raw.githubusercontent.com (raw.githubusercontent.com)|185.199.111.133|:443... connected.\n",
            "HTTP request sent, awaiting response... 200 OK\n",
            "Length: 1115394 (1.1M) [text/plain]\n",
            "Saving to: ‘input.txt’\n",
            "\n",
            "\rinput.txt             0%[                    ]       0  --.-KB/s               \rinput.txt           100%[===================>]   1.06M  --.-KB/s    in 0.06s   \n",
            "\n",
            "2023-12-13 12:17:19 (18.4 MB/s) - ‘input.txt’ saved [1115394/1115394]\n",
            "\n"
          ]
        }
      ],
      "source": [
        "# Download the tiny-Shakesspeare text data from Github repo\n",
        "!wget https://raw.githubusercontent.com/karpathy/char-rnn/master/data/tinyshakespeare/input.txt"
      ]
    },
    {
      "cell_type": "code",
      "source": [
        "import torch\n",
        "import torch.nn as nn\n",
        "from torch.nn import functional as F"
      ],
      "metadata": {
        "id": "tb2m_FMD-vvE"
      },
      "execution_count": 3,
      "outputs": []
    },
    {
      "cell_type": "markdown",
      "source": [
        "Import data and Explore"
      ],
      "metadata": {
        "id": "nzSArLnwq8Kd"
      }
    },
    {
      "cell_type": "code",
      "source": [
        "# Read the tiny-Shakespeare txt file\n",
        "with open('input.txt',mode='r',encoding='utf-8',closefd=True) as f:\n",
        "  text = f.read()"
      ],
      "metadata": {
        "id": "u2_fqE-GlyVf"
      },
      "execution_count": 4,
      "outputs": []
    },
    {
      "cell_type": "code",
      "source": [
        "# View file and its stats\n",
        "print(type(text),len(text),text[1:100])"
      ],
      "metadata": {
        "colab": {
          "base_uri": "https://localhost:8080/"
        },
        "id": "3v2DxpFwnEU-",
        "outputId": "2d47b12a-9232-416e-d189-1b28277743fd"
      },
      "execution_count": 5,
      "outputs": [
        {
          "output_type": "stream",
          "name": "stdout",
          "text": [
            "<class 'str'> 1115394 irst Citizen:\n",
            "Before we proceed any further, hear me speak.\n",
            "\n",
            "All:\n",
            "Speak, speak.\n",
            "\n",
            "First Citizen:\n",
            "You\n"
          ]
        }
      ]
    },
    {
      "cell_type": "code",
      "source": [
        "# List all unique characters used in the text\n",
        "char1 = set(text)\n",
        "chars = sorted(list(set(text)))\n",
        "vocab_size = len(chars)\n",
        "print(''.join(chars),vocab_size,char1)"
      ],
      "metadata": {
        "colab": {
          "base_uri": "https://localhost:8080/"
        },
        "id": "8lgM-6QInIv2",
        "outputId": "82630e2a-aabd-425c-bf7e-59d0e7bdfb98"
      },
      "execution_count": 6,
      "outputs": [
        {
          "output_type": "stream",
          "name": "stdout",
          "text": [
            "\n",
            " !$&',-.3:;?ABCDEFGHIJKLMNOPQRSTUVWXYZabcdefghijklmnopqrstuvwxyz 65 {'R', 'C', 'I', 'q', '\\n', 'W', ':', 'p', 'O', '$', 'U', 'u', 'e', 'g', '3', 'c', 'L', 'n', 'F', 'V', 'E', 'x', 'Z', 'Y', 'v', '.', 'M', '!', 'w', 'X', 'o', 'B', 'H', 'Q', 'a', 't', '-', 'f', 'T', 'h', 'i', 'l', 's', 'b', 'm', ' ', 'D', 'y', 'k', 'K', 'z', ';', 'd', \"'\", ',', 'J', 'N', '&', 'S', 'j', 'G', 'P', 'r', '?', 'A'}\n"
          ]
        }
      ]
    },
    {
      "cell_type": "code",
      "source": [
        "# hyperparameters\n",
        "batch_size = 32 # how many independent sequences will we process in parallel?\n",
        "block_size = 64 # what is the maximum context length for predictions?\n",
        "max_iters = 10000\n",
        "eval_interval = 50\n",
        "learning_rate = 5e-4\n",
        "device = 'cuda' if torch.cuda.is_available() else 'cpu'\n",
        "eval_iters = 200\n",
        "n_embd = 64\n",
        "n_head = 8\n",
        "n_layer = 4\n",
        "dropout = 0.1"
      ],
      "metadata": {
        "id": "M4tGpbi1BEtG"
      },
      "execution_count": 24,
      "outputs": []
    },
    {
      "cell_type": "markdown",
      "source": [
        "Tokenize the text data"
      ],
      "metadata": {
        "id": "1fCEfuKcrE7W"
      }
    },
    {
      "cell_type": "code",
      "source": [
        "# Create a mapping of characters and integers\n",
        "stoi = {ch:i for i,ch in enumerate(chars)}\n",
        "itos = {i:ch for i,ch in enumerate(chars)}\n",
        "#print(stoi['A'],'\\n', itos)\n",
        "\n",
        "# Encoder takes string as input and provides integers as output.\n",
        "encode = lambda s: [stoi[c] for c in s]\n",
        "\n",
        "# Decoder takes list of integers as input an provides string as output\n",
        "decode = lambda l: ''.join([itos[i] for i in l])\n",
        "\n",
        "print(encode('Hi. I am Nimish!!'))\n",
        "print(decode(encode('Hi. I am Nimish!!')))"
      ],
      "metadata": {
        "colab": {
          "base_uri": "https://localhost:8080/"
        },
        "id": "IB7FX1o0ra_g",
        "outputId": "8d8f068b-1654-47b5-f363-0ae48f8c1263"
      },
      "execution_count": 9,
      "outputs": [
        {
          "output_type": "stream",
          "name": "stdout",
          "text": [
            "[20, 47, 8, 1, 21, 1, 39, 51, 1, 26, 47, 51, 47, 57, 46, 2, 2]\n",
            "Hi. I am Nimish!!\n"
          ]
        }
      ]
    },
    {
      "cell_type": "code",
      "source": [
        "# Lets encode entire text dataset and store it into a torch.tensor\n",
        "data = torch.tensor(encode(text), dtype=torch.long)\n",
        "print(data.shape,'\\n',data.dtype,'\\n',data[:100])"
      ],
      "metadata": {
        "colab": {
          "base_uri": "https://localhost:8080/"
        },
        "id": "oE5qlTyfynSq",
        "outputId": "3c947d6c-8707-442f-d403-fbf8ffa54912"
      },
      "execution_count": 11,
      "outputs": [
        {
          "output_type": "stream",
          "name": "stdout",
          "text": [
            "torch.Size([1115394]) \n",
            " torch.int64 \n",
            " tensor([18, 47, 56, 57, 58,  1, 15, 47, 58, 47, 64, 43, 52, 10,  0, 14, 43, 44,\n",
            "        53, 56, 43,  1, 61, 43,  1, 54, 56, 53, 41, 43, 43, 42,  1, 39, 52, 63,\n",
            "         1, 44, 59, 56, 58, 46, 43, 56,  6,  1, 46, 43, 39, 56,  1, 51, 43,  1,\n",
            "        57, 54, 43, 39, 49,  8,  0,  0, 13, 50, 50, 10,  0, 31, 54, 43, 39, 49,\n",
            "         6,  1, 57, 54, 43, 39, 49,  8,  0,  0, 18, 47, 56, 57, 58,  1, 15, 47,\n",
            "        58, 47, 64, 43, 52, 10,  0, 37, 53, 59])\n"
          ]
        }
      ]
    },
    {
      "cell_type": "markdown",
      "source": [
        "Data prep for training\n",
        "Split the data in to Train and Val (10%)\n",
        "Divide the data in to chunks/blocks and batches"
      ],
      "metadata": {
        "id": "etNYLOt556uJ"
      }
    },
    {
      "cell_type": "code",
      "source": [
        "# Divide the data in to train (90%) and validation set (10%)\n",
        "n = int(0.9*len(data))\n",
        "train_data = data[:n]\n",
        "val_data = data[n:]"
      ],
      "metadata": {
        "id": "EvbB-cKJ0ewF"
      },
      "execution_count": 12,
      "outputs": []
    },
    {
      "cell_type": "code",
      "source": [
        "# Sample - Creates blocks of input and corresponding target from training data\n",
        "#block_size = 8\n",
        "x = train_data[:block_size]\n",
        "y = train_data[1:block_size+1]\n",
        "print(x,y)\n",
        "for t in range(block_size):\n",
        "  context = x[:t+1]\n",
        "  target = y[t]\n"
      ],
      "metadata": {
        "colab": {
          "base_uri": "https://localhost:8080/"
        },
        "id": "aelWFxIv6ESu",
        "outputId": "ffa2b250-e285-454b-9eb7-323ecc4c79fd"
      },
      "execution_count": 26,
      "outputs": [
        {
          "output_type": "stream",
          "name": "stdout",
          "text": [
            "tensor([18, 47, 56, 57, 58,  1, 15, 47, 58, 47, 64, 43, 52, 10,  0, 14, 43, 44,\n",
            "        53, 56, 43,  1, 61, 43,  1, 54, 56, 53, 41, 43, 43, 42,  1, 39, 52, 63,\n",
            "         1, 44, 59, 56, 58, 46, 43, 56,  6,  1, 46, 43, 39, 56,  1, 51, 43,  1,\n",
            "        57, 54, 43, 39, 49,  8,  0,  0, 13, 50]) tensor([47, 56, 57, 58,  1, 15, 47, 58, 47, 64, 43, 52, 10,  0, 14, 43, 44, 53,\n",
            "        56, 43,  1, 61, 43,  1, 54, 56, 53, 41, 43, 43, 42,  1, 39, 52, 63,  1,\n",
            "        44, 59, 56, 58, 46, 43, 56,  6,  1, 46, 43, 39, 56,  1, 51, 43,  1, 57,\n",
            "        54, 43, 39, 49,  8,  0,  0, 13, 50, 50])\n"
          ]
        }
      ]
    },
    {
      "cell_type": "code",
      "source": [
        "# data loading\n",
        "def get_batch(split):\n",
        "    # generate a small batch of data of inputs x and targets y\n",
        "    data = train_data if split == 'train' else val_data\n",
        "\n",
        "    # Create batch of 4 randomly generated integers within length of text data\n",
        "    ix = torch.randint(len(data) - block_size, (batch_size,))\n",
        "\n",
        "    # Create batch of 4 blocks (each of block size 8) from randomly selected integers for parallel processing\n",
        "    x = torch.stack([data[i:i+block_size] for i in ix])\n",
        "    y = torch.stack([data[i+1:i+block_size+1] for i in ix])\n",
        "\n",
        "    #move x, y parameters to GPU if available or on CPU\n",
        "    x, y = x.to(device), y.to(device)\n",
        "    return x, y"
      ],
      "metadata": {
        "id": "h_-m6llh8As1"
      },
      "execution_count": 14,
      "outputs": []
    },
    {
      "cell_type": "code",
      "source": [
        "@torch.no_grad()\n",
        "def estimate_loss():\n",
        "    out = {}\n",
        "    model.eval()\n",
        "    for split in ['train', 'val']:\n",
        "        losses = torch.zeros(eval_iters)\n",
        "        for k in range(eval_iters):\n",
        "            X, Y = get_batch(split)\n",
        "            logits, loss = model(X, Y)\n",
        "            losses[k] = loss.item()\n",
        "        out[split] = losses.mean()\n",
        "    model.train()\n",
        "    return out"
      ],
      "metadata": {
        "id": "YhBy-hLRDgPq"
      },
      "execution_count": 15,
      "outputs": []
    },
    {
      "cell_type": "code",
      "source": [
        "class Head(nn.Module):\n",
        "    \"\"\" one head of self-attention \"\"\"\n",
        "\n",
        "    def __init__(self, head_size):\n",
        "        super().__init__()\n",
        "        self.key = nn.Linear(n_embd, head_size, bias=False) # Key represents the information each element of sequence holds\n",
        "        self.query = nn.Linear(n_embd, head_size, bias=False) # Defines the query or search the model is asking for\n",
        "        self.value = nn.Linear(n_embd, head_size, bias=False)\n",
        "        self.register_buffer('tril', torch.tril(torch.ones(block_size, block_size)))\n",
        "\n",
        "        self.dropout = nn.Dropout(dropout)\n",
        "\n",
        "    def forward(self, x):\n",
        "        B,T,C = x.shape\n",
        "        k = self.key(x)   # (B,T,C)\n",
        "        q = self.query(x) # (B,T,C)\n",
        "        # compute attention scores (\"affinities\")\n",
        "        wei = q @ k.transpose(-2,-1) * C**-0.5 # (B, T, C) @ (B, C, T) -> (B, T, T)\n",
        "\n",
        "        # masking out the attention scores in the upper triangular portion of the matrix, the model is forced to only focus on the elements that appear before the current position in the sequence.\n",
        "        wei = wei.masked_fill(self.tril[:T, :T] == 0, float('-inf')) # (B, T, T)\n",
        "        wei = F.softmax(wei, dim=-1) # (B, T, T)\n",
        "        wei = self.dropout(wei)\n",
        "        # perform the weighted aggregation of the values\n",
        "        v = self.value(x) # (B,T,C)\n",
        "        # the model gives more weight to elements that have higher attention scores, meaning they are more relevant to the current query.\n",
        "        out = wei @ v # (B, T, T) @ (B, T, C) -> (B, T, C)\n",
        "        return out"
      ],
      "metadata": {
        "id": "gFy5dUGPxrTM"
      },
      "execution_count": 16,
      "outputs": []
    },
    {
      "cell_type": "code",
      "source": [
        "class MultiHeadAttention(nn.Module):\n",
        "    \"\"\" multiple heads of self-attention in parallel \"\"\"\n",
        "\n",
        "    def __init__(self, num_heads, head_size):\n",
        "        super().__init__()\n",
        "        self.heads = nn.ModuleList([Head(head_size) for _ in range(num_heads)])\n",
        "        self.proj = nn.Linear(n_embd, n_embd)\n",
        "        self.dropout = nn.Dropout(dropout)\n",
        "\n",
        "    def forward(self, x):\n",
        "        out = torch.cat([h(x) for h in self.heads], dim=-1)\n",
        "        out = self.dropout(self.proj(out))\n",
        "        return out\n",
        "\n",
        "class FeedFoward(nn.Module):\n",
        "    \"\"\" a simple linear layer followed by a non-linearity \"\"\"\n",
        "\n",
        "    def __init__(self, n_embd):\n",
        "        super().__init__()\n",
        "        self.net = nn.Sequential(\n",
        "            nn.Linear(n_embd, 4 * n_embd),\n",
        "            nn.ReLU(),\n",
        "            nn.Linear(4 * n_embd, n_embd),\n",
        "            nn.Dropout(dropout),\n",
        "        )\n",
        "\n",
        "    def forward(self, x):\n",
        "        return self.net(x)\n",
        "\n",
        "class Block(nn.Module):\n",
        "    \"\"\" Transformer block: communication followed by computation \"\"\"\n",
        "\n",
        "    def __init__(self, n_embd, n_head):\n",
        "        # n_embd: embedding dimension, n_head: the number of heads we'd like\n",
        "        super().__init__()\n",
        "        head_size = n_embd // n_head\n",
        "        self.sa = MultiHeadAttention(n_head, head_size)\n",
        "        self.ffwd = FeedFoward(n_embd)\n",
        "        self.ln1 = nn.LayerNorm(n_embd)\n",
        "        self.ln2 = nn.LayerNorm(n_embd)\n",
        "\n",
        "    def forward(self, x):\n",
        "        x = x + self.sa(self.ln1(x))\n",
        "        x = x + self.ffwd(self.ln2(x))\n",
        "        return x"
      ],
      "metadata": {
        "id": "WWs60ospyJDN"
      },
      "execution_count": 17,
      "outputs": []
    },
    {
      "cell_type": "code",
      "source": [
        "# Simple bigram model\n",
        "class BigramLanguageModel(nn.Module):\n",
        "\n",
        "    def __init__(self):\n",
        "        super().__init__()\n",
        "        # each token directly reads off the logits for the next token from a lookup table\n",
        "        self.token_embedding_table = nn.Embedding(vocab_size, n_embd) # Word Embedding\n",
        "        self.position_embedding_table = nn.Embedding(block_size, n_embd) #Positional Embedding\n",
        "        self.blocks = nn.Sequential(*[Block(n_embd, n_head=n_head) for _ in range(n_layer)])\n",
        "        self.ln_f = nn.LayerNorm(n_embd) # final layer norm\n",
        "        self.lm_head = nn.Linear(n_embd, vocab_size)\n",
        "\n",
        "    def forward(self, idx, targets=None):\n",
        "        B, T = idx.shape\n",
        "\n",
        "        # idx and targets are both (B,T) tensor of integers\n",
        "        tok_emb = self.token_embedding_table(idx) # (B,T,C)\n",
        "        pos_emb = self.position_embedding_table(torch.arange(T, device=device)) # (T,C)\n",
        "        x = tok_emb + pos_emb # (B,T,C)\n",
        "        x = self.blocks(x) # (B,T,C)\n",
        "        x = self.ln_f(x) # (B,T,C)\n",
        "        logits = self.lm_head(x) # (B,T,vocab_size)\n",
        "\n",
        "        if targets is None:\n",
        "            loss = None\n",
        "        else:\n",
        "            B, T, C = logits.shape\n",
        "            logits = logits.view(B*T, C)\n",
        "            targets = targets.view(B*T)\n",
        "            loss = F.cross_entropy(logits, targets)\n",
        "\n",
        "        return logits, loss\n",
        "\n",
        "    def generate(self, idx, max_new_tokens):\n",
        "        # idx is (B, T) array of indices in the current context\n",
        "        for _ in range(max_new_tokens):\n",
        "            # crop idx to the last block_size tokens\n",
        "            idx_cond = idx[:, -block_size:]\n",
        "            # get the predictions\n",
        "            logits, loss = self(idx_cond)\n",
        "            # focus only on the last time step\n",
        "            logits = logits[:, -1, :] # becomes (B, C)\n",
        "            # apply softmax to get probabilities\n",
        "            probs = F.softmax(logits, dim=-1) # (B, C)\n",
        "            # sample from the distribution\n",
        "            idx_next = torch.multinomial(probs, num_samples=1) # (B, 1)\n",
        "            # append sampled index to the running sequence\n",
        "            idx = torch.cat((idx, idx_next), dim=1) # (B, T+1)\n",
        "        return idx"
      ],
      "metadata": {
        "id": "E7uZJ9G5UJ6T"
      },
      "execution_count": 18,
      "outputs": []
    },
    {
      "cell_type": "code",
      "source": [
        "model = BigramLanguageModel()\n",
        "m = model.to(device)\n",
        "# print the number of parameters in the model\n",
        "print(sum(p.numel() for p in m.parameters())/1e6, 'M parameters')\n",
        "\n",
        "# create a PyTorch optimizer\n",
        "optimizer = torch.optim.AdamW(model.parameters(), lr=learning_rate)\n",
        "\n",
        "for iter in range(max_iters):\n",
        "\n",
        "    # every once in a while evaluate the loss on train and val sets\n",
        "    if iter % eval_interval == 0 or iter == max_iters - 1:\n",
        "        losses = estimate_loss()\n",
        "        print(f\"step {iter}: train loss {losses['train']:.4f}, val loss {losses['val']:.4f}\")\n",
        "\n",
        "    # sample a batch of data\n",
        "    xb, yb = get_batch('train')\n",
        "\n",
        "    # evaluate the loss\n",
        "    logits, loss = model(xb, yb)\n",
        "    optimizer.zero_grad(set_to_none=True)\n",
        "    loss.backward()\n",
        "    optimizer.step()\n",
        "\n",
        "# generate from the model\n",
        "context = torch.zeros((1, 1), dtype=torch.long, device=device)\n",
        "print(decode(m.generate(context, max_new_tokens=2000)[0].tolist()))\n"
      ],
      "metadata": {
        "colab": {
          "base_uri": "https://localhost:8080/"
        },
        "id": "M_thJHnt7DIc",
        "outputId": "a73bae0e-4759-4237-ff40-81b0421a3e6e"
      },
      "execution_count": 25,
      "outputs": [
        {
          "output_type": "stream",
          "name": "stdout",
          "text": [
            "0.211777 M parameters\n",
            "step 0: train loss 4.3437, val loss 4.3353\n",
            "step 50: train loss 3.1526, val loss 3.1879\n",
            "step 100: train loss 2.8173, val loss 2.8344\n",
            "step 150: train loss 2.6620, val loss 2.6657\n",
            "step 200: train loss 2.5899, val loss 2.5967\n",
            "step 250: train loss 2.5478, val loss 2.5503\n",
            "step 300: train loss 2.5194, val loss 2.5209\n",
            "step 350: train loss 2.4971, val loss 2.5043\n",
            "step 400: train loss 2.4756, val loss 2.4786\n",
            "step 450: train loss 2.4538, val loss 2.4593\n",
            "step 500: train loss 2.4335, val loss 2.4442\n",
            "step 550: train loss 2.4160, val loss 2.4283\n",
            "step 600: train loss 2.3981, val loss 2.4099\n",
            "step 650: train loss 2.3793, val loss 2.3907\n",
            "step 700: train loss 2.3625, val loss 2.3754\n",
            "step 750: train loss 2.3517, val loss 2.3624\n",
            "step 800: train loss 2.3357, val loss 2.3481\n",
            "step 850: train loss 2.3224, val loss 2.3374\n",
            "step 900: train loss 2.2962, val loss 2.3138\n",
            "step 950: train loss 2.2936, val loss 2.3071\n",
            "step 1000: train loss 2.2762, val loss 2.2919\n",
            "step 1050: train loss 2.2504, val loss 2.2687\n",
            "step 1100: train loss 2.2395, val loss 2.2526\n",
            "step 1150: train loss 2.2246, val loss 2.2493\n",
            "step 1200: train loss 2.2124, val loss 2.2349\n",
            "step 1250: train loss 2.1992, val loss 2.2212\n",
            "step 1300: train loss 2.1828, val loss 2.2058\n",
            "step 1350: train loss 2.1698, val loss 2.2001\n",
            "step 1400: train loss 2.1569, val loss 2.1808\n",
            "step 1450: train loss 2.1493, val loss 2.1726\n",
            "step 1500: train loss 2.1323, val loss 2.1615\n",
            "step 1550: train loss 2.1232, val loss 2.1553\n",
            "step 1600: train loss 2.1193, val loss 2.1459\n",
            "step 1650: train loss 2.1035, val loss 2.1461\n",
            "step 1700: train loss 2.0967, val loss 2.1253\n",
            "step 1750: train loss 2.0790, val loss 2.1199\n",
            "step 1800: train loss 2.0738, val loss 2.1214\n",
            "step 1850: train loss 2.0635, val loss 2.1085\n",
            "step 1900: train loss 2.0520, val loss 2.1030\n",
            "step 1950: train loss 2.0534, val loss 2.0937\n",
            "step 2000: train loss 2.0442, val loss 2.0859\n",
            "step 2050: train loss 2.0370, val loss 2.0863\n",
            "step 2100: train loss 2.0260, val loss 2.0814\n",
            "step 2150: train loss 2.0146, val loss 2.0789\n",
            "step 2200: train loss 2.0080, val loss 2.0687\n",
            "step 2250: train loss 2.0106, val loss 2.0647\n",
            "step 2300: train loss 1.9942, val loss 2.0560\n",
            "step 2350: train loss 1.9834, val loss 2.0531\n",
            "step 2400: train loss 1.9734, val loss 2.0515\n",
            "step 2450: train loss 1.9716, val loss 2.0414\n",
            "step 2500: train loss 1.9603, val loss 2.0297\n",
            "step 2550: train loss 1.9608, val loss 2.0315\n",
            "step 2600: train loss 1.9533, val loss 2.0256\n",
            "step 2650: train loss 1.9475, val loss 2.0208\n",
            "step 2700: train loss 1.9378, val loss 2.0191\n",
            "step 2750: train loss 1.9291, val loss 2.0114\n",
            "step 2800: train loss 1.9246, val loss 2.0013\n",
            "step 2850: train loss 1.9171, val loss 2.0037\n",
            "step 2900: train loss 1.9216, val loss 1.9999\n",
            "step 2950: train loss 1.9113, val loss 1.9941\n",
            "step 3000: train loss 1.9070, val loss 1.9950\n",
            "step 3050: train loss 1.9020, val loss 1.9913\n",
            "step 3100: train loss 1.8932, val loss 1.9874\n",
            "step 3150: train loss 1.8967, val loss 1.9857\n",
            "step 3200: train loss 1.8836, val loss 1.9812\n",
            "step 3250: train loss 1.8839, val loss 1.9757\n",
            "step 3300: train loss 1.8760, val loss 1.9765\n",
            "step 3350: train loss 1.8724, val loss 1.9657\n",
            "step 3400: train loss 1.8726, val loss 1.9669\n",
            "step 3450: train loss 1.8702, val loss 1.9678\n",
            "step 3500: train loss 1.8564, val loss 1.9631\n",
            "step 3550: train loss 1.8576, val loss 1.9433\n",
            "step 3600: train loss 1.8508, val loss 1.9544\n",
            "step 3650: train loss 1.8523, val loss 1.9608\n",
            "step 3700: train loss 1.8432, val loss 1.9493\n",
            "step 3750: train loss 1.8420, val loss 1.9424\n",
            "step 3800: train loss 1.8370, val loss 1.9466\n",
            "step 3850: train loss 1.8308, val loss 1.9466\n",
            "step 3900: train loss 1.8279, val loss 1.9417\n",
            "step 3950: train loss 1.8187, val loss 1.9401\n",
            "step 4000: train loss 1.8318, val loss 1.9439\n",
            "step 4050: train loss 1.8187, val loss 1.9336\n",
            "step 4100: train loss 1.8162, val loss 1.9397\n",
            "step 4150: train loss 1.8139, val loss 1.9261\n",
            "step 4200: train loss 1.8093, val loss 1.9298\n",
            "step 4250: train loss 1.8063, val loss 1.9304\n",
            "step 4300: train loss 1.8023, val loss 1.9303\n",
            "step 4350: train loss 1.8043, val loss 1.9244\n",
            "step 4400: train loss 1.7909, val loss 1.9188\n",
            "step 4450: train loss 1.7966, val loss 1.9165\n",
            "step 4500: train loss 1.7915, val loss 1.9091\n",
            "step 4550: train loss 1.7832, val loss 1.9107\n",
            "step 4600: train loss 1.7874, val loss 1.9153\n",
            "step 4650: train loss 1.7810, val loss 1.9120\n",
            "step 4700: train loss 1.7705, val loss 1.9108\n",
            "step 4750: train loss 1.7703, val loss 1.9065\n",
            "step 4800: train loss 1.7723, val loss 1.9010\n",
            "step 4850: train loss 1.7683, val loss 1.9079\n",
            "step 4900: train loss 1.7637, val loss 1.8922\n",
            "step 4950: train loss 1.7673, val loss 1.9046\n",
            "step 5000: train loss 1.7626, val loss 1.8909\n",
            "step 5050: train loss 1.7557, val loss 1.8931\n",
            "step 5100: train loss 1.7566, val loss 1.8910\n",
            "step 5150: train loss 1.7548, val loss 1.8875\n",
            "step 5200: train loss 1.7544, val loss 1.8943\n",
            "step 5250: train loss 1.7477, val loss 1.8900\n",
            "step 5300: train loss 1.7495, val loss 1.8922\n",
            "step 5350: train loss 1.7422, val loss 1.8889\n",
            "step 5400: train loss 1.7472, val loss 1.8874\n",
            "step 5450: train loss 1.7383, val loss 1.8892\n",
            "step 5500: train loss 1.7353, val loss 1.8849\n",
            "step 5550: train loss 1.7375, val loss 1.8776\n",
            "step 5600: train loss 1.7323, val loss 1.8721\n",
            "step 5650: train loss 1.7402, val loss 1.8790\n",
            "step 5700: train loss 1.7333, val loss 1.8782\n",
            "step 5750: train loss 1.7293, val loss 1.8729\n",
            "step 5800: train loss 1.7296, val loss 1.8805\n",
            "step 5850: train loss 1.7244, val loss 1.8652\n",
            "step 5900: train loss 1.7240, val loss 1.8682\n",
            "step 5950: train loss 1.7180, val loss 1.8752\n",
            "step 6000: train loss 1.7162, val loss 1.8605\n",
            "step 6050: train loss 1.7191, val loss 1.8783\n",
            "step 6100: train loss 1.7186, val loss 1.8663\n",
            "step 6150: train loss 1.7103, val loss 1.8563\n",
            "step 6200: train loss 1.7020, val loss 1.8520\n",
            "step 6250: train loss 1.7097, val loss 1.8570\n",
            "step 6300: train loss 1.7097, val loss 1.8631\n",
            "step 6350: train loss 1.7000, val loss 1.8551\n",
            "step 6400: train loss 1.7025, val loss 1.8495\n",
            "step 6450: train loss 1.7054, val loss 1.8566\n",
            "step 6500: train loss 1.6977, val loss 1.8458\n",
            "step 6550: train loss 1.7007, val loss 1.8604\n",
            "step 6600: train loss 1.6947, val loss 1.8510\n",
            "step 6650: train loss 1.6923, val loss 1.8505\n",
            "step 6700: train loss 1.6928, val loss 1.8464\n",
            "step 6750: train loss 1.6902, val loss 1.8490\n",
            "step 6800: train loss 1.6888, val loss 1.8486\n",
            "step 6850: train loss 1.6932, val loss 1.8548\n",
            "step 6900: train loss 1.6898, val loss 1.8519\n",
            "step 6950: train loss 1.6844, val loss 1.8395\n",
            "step 7000: train loss 1.6833, val loss 1.8317\n",
            "step 7050: train loss 1.6782, val loss 1.8282\n",
            "step 7100: train loss 1.6904, val loss 1.8424\n",
            "step 7150: train loss 1.6808, val loss 1.8324\n",
            "step 7200: train loss 1.6795, val loss 1.8460\n",
            "step 7250: train loss 1.6762, val loss 1.8292\n",
            "step 7300: train loss 1.6727, val loss 1.8317\n",
            "step 7350: train loss 1.6759, val loss 1.8400\n",
            "step 7400: train loss 1.6662, val loss 1.8239\n",
            "step 7450: train loss 1.6779, val loss 1.8245\n",
            "step 7500: train loss 1.6628, val loss 1.8219\n",
            "step 7550: train loss 1.6704, val loss 1.8245\n",
            "step 7600: train loss 1.6750, val loss 1.8235\n",
            "step 7650: train loss 1.6678, val loss 1.8144\n",
            "step 7700: train loss 1.6623, val loss 1.8241\n",
            "step 7750: train loss 1.6621, val loss 1.8208\n",
            "step 7800: train loss 1.6646, val loss 1.8213\n",
            "step 7850: train loss 1.6620, val loss 1.8235\n",
            "step 7900: train loss 1.6527, val loss 1.8250\n",
            "step 7950: train loss 1.6588, val loss 1.8102\n",
            "step 8000: train loss 1.6559, val loss 1.8193\n",
            "step 8050: train loss 1.6528, val loss 1.8222\n",
            "step 8100: train loss 1.6604, val loss 1.8157\n",
            "step 8150: train loss 1.6484, val loss 1.8115\n",
            "step 8200: train loss 1.6526, val loss 1.8166\n",
            "step 8250: train loss 1.6566, val loss 1.8167\n",
            "step 8300: train loss 1.6426, val loss 1.8087\n",
            "step 8350: train loss 1.6437, val loss 1.8096\n",
            "step 8400: train loss 1.6494, val loss 1.8055\n",
            "step 8450: train loss 1.6508, val loss 1.8051\n",
            "step 8500: train loss 1.6437, val loss 1.7949\n",
            "step 8550: train loss 1.6457, val loss 1.8056\n",
            "step 8600: train loss 1.6482, val loss 1.8005\n",
            "step 8650: train loss 1.6503, val loss 1.8001\n",
            "step 8700: train loss 1.6439, val loss 1.8008\n",
            "step 8750: train loss 1.6415, val loss 1.7993\n",
            "step 8800: train loss 1.6388, val loss 1.7950\n",
            "step 8850: train loss 1.6349, val loss 1.7933\n",
            "step 8900: train loss 1.6371, val loss 1.7910\n",
            "step 8950: train loss 1.6324, val loss 1.8052\n",
            "step 9000: train loss 1.6333, val loss 1.7915\n",
            "step 9050: train loss 1.6351, val loss 1.7954\n",
            "step 9100: train loss 1.6356, val loss 1.8018\n",
            "step 9150: train loss 1.6295, val loss 1.7994\n",
            "step 9200: train loss 1.6263, val loss 1.7912\n",
            "step 9250: train loss 1.6338, val loss 1.7970\n",
            "step 9300: train loss 1.6295, val loss 1.7936\n",
            "step 9350: train loss 1.6244, val loss 1.7841\n",
            "step 9400: train loss 1.6241, val loss 1.7848\n",
            "step 9450: train loss 1.6163, val loss 1.7857\n",
            "step 9500: train loss 1.6255, val loss 1.7873\n",
            "step 9550: train loss 1.6207, val loss 1.7895\n",
            "step 9600: train loss 1.6240, val loss 1.7834\n",
            "step 9650: train loss 1.6199, val loss 1.7841\n",
            "step 9700: train loss 1.6188, val loss 1.7862\n",
            "step 9750: train loss 1.6106, val loss 1.7920\n",
            "step 9800: train loss 1.6163, val loss 1.7840\n",
            "step 9850: train loss 1.6164, val loss 1.7839\n",
            "step 9900: train loss 1.6172, val loss 1.7815\n",
            "step 9950: train loss 1.6155, val loss 1.7844\n",
            "step 9999: train loss 1.6112, val loss 1.7797\n",
            "\n",
            "Hark a upbursed, I hat forel, shop lords of eat.\n",
            "\n",
            "GLOUCET:\n",
            "Goest noch the see to loss\n",
            "Elf himsel\n",
            "Which is hings thou stip bolingess and lovide broth;\n",
            "Edwas that ass deass I,\n",
            "Isy made voostio?\n",
            "\n",
            "CAMILILLO:\n",
            "Was I would world gard of is lants hese' will made.\n",
            "\n",
            "MERCENIUS:\n",
            "Cairly worrended you, wherfords of mouch nor ranings\n",
            "me and with graneson and-f offerser; to the lad\n",
            "thines and the sit most elstormers of to houssib.\n",
            "\n",
            "MASAMENUS:\n",
            "Bo, have wash nor dother thind: tower your was borte\n",
            "And with warcked, that bithming mort? surpess of for unded\n",
            "That thou blood good; for but pourph you,\n",
            "Asirsed spuch canissed, bly To orst bare worsce weven the aly Prayes\n",
            "That to dain achart; good conthorively coun your honours inly not the deate\n",
            "was, by see for he merion's sin the his brett kind,\n",
            "Songmighter tolder of pirs. Thence thy\n",
            "remump.\n",
            "Stickand me him, and whestiltt sandoth my lating garlo;\n",
            "To too nothoo. That, my covis! he minself\n",
            "To sups his issuar by frior rettly, my to heast well.\n",
            "\n",
            "BURKINGH:\n",
            "And here intoo my sir, cherefore dobly,\n",
            "In appose this dobes think tage trate ower clolds,\n",
            "We and loy his as cins lifel for\n",
            "Mether: whill wo not by hadving wouth by ind!\n",
            "\n",
            "Now, be I would your britte.\n",
            "Horse here all a daubtine. Loords, but idderd;\n",
            "And despoe lord, mirdedg as reven our not\n",
            "remposed, your will grothm hisse tach the thee:\n",
            "Would told so, ro'son, thou what is un gentent\n",
            "So ab-sucgius? now, was arsoft.\n",
            "\n",
            "BENVOMERLIO:\n",
            "No so, your re nottuty, deater with would bove wat\n",
            "'ous will koundlded my reven tumanter.\n",
            "IS nows statter it in ban goats: or their pobly songer'd.\n",
            "\n",
            "YORCUS:\n",
            "I'll of hermble double wilk.\n",
            "\n",
            "JULIEET:\n",
            "No must eye in goodling up holdienent, hath be tome\n",
            "ucwand too Romans haster all kneep penssary ander somme.\n",
            "\n",
            "COMINIUS:\n",
            "Ocks, is in here?nion, but his sorded, you deem.\n",
            "\n",
            "FORDIO:\n",
            "Her son repess so pitert the dare to loal the was might.\n",
            "\n",
            "ThesFord:\n",
            "Haste the I was that love that soft caris,\n",
            "As depour thou eart-take concule, to congive,\n",
            "wre dough to take all mainink works a hater you\n"
          ]
        }
      ]
    },
    {
      "cell_type": "code",
      "source": [],
      "metadata": {
        "id": "BsJxfvYYLtNV"
      },
      "execution_count": null,
      "outputs": []
    }
  ]
}
